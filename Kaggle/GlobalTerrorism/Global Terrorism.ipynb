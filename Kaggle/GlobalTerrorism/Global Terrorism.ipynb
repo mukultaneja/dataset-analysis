{
 "cells": [
  {
   "cell_type": "code",
   "execution_count": 1,
   "metadata": {
    "collapsed": false
   },
   "outputs": [
    {
     "name": "stderr",
     "output_type": "stream",
     "text": [
      "/home/mac/anaconda2/lib/python2.7/site-packages/IPython/core/interactiveshell.py:2717: DtypeWarning: Columns (4,61,62,66,116,117,123) have mixed types. Specify dtype option on import or set low_memory=False.\n",
      "  interactivity=interactivity, compiler=compiler, result=result)\n"
     ]
    }
   ],
   "source": [
    "import pandas as pd\n",
    "import numpy as np\n",
    "\n",
    "data = pd.read_csv('globalterrorismdb_0616dist.csv')"
   ]
  },
  {
   "cell_type": "code",
   "execution_count": 3,
   "metadata": {
    "collapsed": false
   },
   "outputs": [],
   "source": [
    "data = data[['iyear', 'imonth', 'country_txt', 'region_txt', 'city', 'location', 'summary', 'success', 'suicide',\n",
    "            'attacktype1_txt', 'targtype1_txt', 'motive', 'weaptype1_txt', 'weapdetail', 'gname']]\n",
    "\n",
    "data.to_csv('global-terrorism-vis/global-terror-data.csv')"
   ]
  },
  {
   "cell_type": "code",
   "execution_count": 7,
   "metadata": {
    "collapsed": false
   },
   "outputs": [
    {
     "data": {
      "text/plain": [
       "iyear  imonth\n",
       "1970   0         2\n",
       "dtype: int64"
      ]
     },
     "execution_count": 7,
     "metadata": {},
     "output_type": "execute_result"
    }
   ],
   "source": [
    "data = pd.read_csv('global-terrorism-vis/global-terror-data.csv')\n",
    "data = data[data['iyear'] == 1970]\n",
    "data = data[data['imonth'] == 0]\n",
    "data.groupby(['iyear', 'imonth']).size()"
   ]
  },
  {
   "cell_type": "code",
   "execution_count": 1,
   "metadata": {
    "collapsed": false
   },
   "outputs": [
    {
     "data": {
      "text/html": [
       "<div>\n",
       "<table border=\"1\" class=\"dataframe\">\n",
       "  <thead>\n",
       "    <tr style=\"text-align: right;\">\n",
       "      <th></th>\n",
       "      <th>iyear</th>\n",
       "      <th>imonth</th>\n",
       "      <th>country_txt</th>\n",
       "      <th>region_txt</th>\n",
       "      <th>city</th>\n",
       "      <th>location</th>\n",
       "      <th>summary</th>\n",
       "      <th>success</th>\n",
       "      <th>suicide</th>\n",
       "      <th>attacktype1_txt</th>\n",
       "      <th>targtype1_txt</th>\n",
       "      <th>motive</th>\n",
       "      <th>weaptype1_txt</th>\n",
       "      <th>weapdetail</th>\n",
       "      <th>gname</th>\n",
       "      <th>month</th>\n",
       "      <th>year</th>\n",
       "    </tr>\n",
       "  </thead>\n",
       "  <tbody>\n",
       "    <tr>\n",
       "      <th>0</th>\n",
       "      <td>1970</td>\n",
       "      <td>0</td>\n",
       "      <td>Dominican Republic</td>\n",
       "      <td>Central America &amp; Caribbean</td>\n",
       "      <td>Santo Domingo</td>\n",
       "      <td>NaN</td>\n",
       "      <td>NaN</td>\n",
       "      <td>1</td>\n",
       "      <td>0</td>\n",
       "      <td>Assassination</td>\n",
       "      <td>Private Citizens &amp; Property</td>\n",
       "      <td>NaN</td>\n",
       "      <td>Unknown</td>\n",
       "      <td>NaN</td>\n",
       "      <td>MANO-D</td>\n",
       "      <td>Jan</td>\n",
       "      <td>1970-1979</td>\n",
       "    </tr>\n",
       "    <tr>\n",
       "      <th>1</th>\n",
       "      <td>1970</td>\n",
       "      <td>0</td>\n",
       "      <td>Mexico</td>\n",
       "      <td>North America</td>\n",
       "      <td>Mexico city</td>\n",
       "      <td>NaN</td>\n",
       "      <td>NaN</td>\n",
       "      <td>1</td>\n",
       "      <td>0</td>\n",
       "      <td>Hostage Taking (Kidnapping)</td>\n",
       "      <td>Government (Diplomatic)</td>\n",
       "      <td>NaN</td>\n",
       "      <td>Unknown</td>\n",
       "      <td>NaN</td>\n",
       "      <td>23rd of September Communist League</td>\n",
       "      <td>Jan</td>\n",
       "      <td>1970-1979</td>\n",
       "    </tr>\n",
       "    <tr>\n",
       "      <th>2</th>\n",
       "      <td>1970</td>\n",
       "      <td>1</td>\n",
       "      <td>Philippines</td>\n",
       "      <td>Southeast Asia</td>\n",
       "      <td>Unknown</td>\n",
       "      <td>NaN</td>\n",
       "      <td>NaN</td>\n",
       "      <td>1</td>\n",
       "      <td>0</td>\n",
       "      <td>Assassination</td>\n",
       "      <td>Journalists &amp; Media</td>\n",
       "      <td>NaN</td>\n",
       "      <td>Unknown</td>\n",
       "      <td>NaN</td>\n",
       "      <td>Unknown</td>\n",
       "      <td>Feb</td>\n",
       "      <td>1970-1979</td>\n",
       "    </tr>\n",
       "    <tr>\n",
       "      <th>3</th>\n",
       "      <td>1970</td>\n",
       "      <td>1</td>\n",
       "      <td>Greece</td>\n",
       "      <td>Western Europe</td>\n",
       "      <td>Athens</td>\n",
       "      <td>NaN</td>\n",
       "      <td>NaN</td>\n",
       "      <td>1</td>\n",
       "      <td>0</td>\n",
       "      <td>Bombing/Explosion</td>\n",
       "      <td>Government (Diplomatic)</td>\n",
       "      <td>NaN</td>\n",
       "      <td>Explosives/Bombs/Dynamite</td>\n",
       "      <td>Explosive</td>\n",
       "      <td>Unknown</td>\n",
       "      <td>Feb</td>\n",
       "      <td>1970-1979</td>\n",
       "    </tr>\n",
       "    <tr>\n",
       "      <th>4</th>\n",
       "      <td>1970</td>\n",
       "      <td>1</td>\n",
       "      <td>Japan</td>\n",
       "      <td>East Asia</td>\n",
       "      <td>Fukouka</td>\n",
       "      <td>NaN</td>\n",
       "      <td>NaN</td>\n",
       "      <td>1</td>\n",
       "      <td>0</td>\n",
       "      <td>Facility/Infrastructure Attack</td>\n",
       "      <td>Government (Diplomatic)</td>\n",
       "      <td>NaN</td>\n",
       "      <td>Incendiary</td>\n",
       "      <td>Incendiary</td>\n",
       "      <td>Unknown</td>\n",
       "      <td>Feb</td>\n",
       "      <td>1970-1979</td>\n",
       "    </tr>\n",
       "    <tr>\n",
       "      <th>5</th>\n",
       "      <td>1970</td>\n",
       "      <td>1</td>\n",
       "      <td>United States</td>\n",
       "      <td>North America</td>\n",
       "      <td>Cairo</td>\n",
       "      <td>NaN</td>\n",
       "      <td>1/1/1970: Unknown African American assailants ...</td>\n",
       "      <td>1</td>\n",
       "      <td>0</td>\n",
       "      <td>Armed Assault</td>\n",
       "      <td>Police</td>\n",
       "      <td>To protest the Cairo Illinois Police Deparment</td>\n",
       "      <td>Firearms</td>\n",
       "      <td>Several gunshots were fired.</td>\n",
       "      <td>Black Nationalists</td>\n",
       "      <td>Feb</td>\n",
       "      <td>1970-1979</td>\n",
       "    </tr>\n",
       "    <tr>\n",
       "      <th>6</th>\n",
       "      <td>1970</td>\n",
       "      <td>1</td>\n",
       "      <td>Uruguay</td>\n",
       "      <td>South America</td>\n",
       "      <td>Montevideo</td>\n",
       "      <td>NaN</td>\n",
       "      <td>NaN</td>\n",
       "      <td>0</td>\n",
       "      <td>0</td>\n",
       "      <td>Assassination</td>\n",
       "      <td>Police</td>\n",
       "      <td>NaN</td>\n",
       "      <td>Firearms</td>\n",
       "      <td>Automatic firearm</td>\n",
       "      <td>Tupamaros (Uruguay)</td>\n",
       "      <td>Feb</td>\n",
       "      <td>1970-1979</td>\n",
       "    </tr>\n",
       "    <tr>\n",
       "      <th>7</th>\n",
       "      <td>1970</td>\n",
       "      <td>1</td>\n",
       "      <td>United States</td>\n",
       "      <td>North America</td>\n",
       "      <td>Oakland</td>\n",
       "      <td>Edes Substation</td>\n",
       "      <td>1/2/1970: Unknown perpetrators detonated explo...</td>\n",
       "      <td>1</td>\n",
       "      <td>0</td>\n",
       "      <td>Bombing/Explosion</td>\n",
       "      <td>Utilities</td>\n",
       "      <td>NaN</td>\n",
       "      <td>Explosives/Bombs/Dynamite</td>\n",
       "      <td>NaN</td>\n",
       "      <td>Unknown</td>\n",
       "      <td>Feb</td>\n",
       "      <td>1970-1979</td>\n",
       "    </tr>\n",
       "    <tr>\n",
       "      <th>8</th>\n",
       "      <td>1970</td>\n",
       "      <td>1</td>\n",
       "      <td>United States</td>\n",
       "      <td>North America</td>\n",
       "      <td>Madison</td>\n",
       "      <td>NaN</td>\n",
       "      <td>1/2/1970: Karl Armstrong, a member of the New ...</td>\n",
       "      <td>1</td>\n",
       "      <td>0</td>\n",
       "      <td>Facility/Infrastructure Attack</td>\n",
       "      <td>Military</td>\n",
       "      <td>To protest the War in Vietnam and the draft</td>\n",
       "      <td>Incendiary</td>\n",
       "      <td>Firebomb consisting of gasoline</td>\n",
       "      <td>New Year's Gang</td>\n",
       "      <td>Feb</td>\n",
       "      <td>1970-1979</td>\n",
       "    </tr>\n",
       "    <tr>\n",
       "      <th>9</th>\n",
       "      <td>1970</td>\n",
       "      <td>1</td>\n",
       "      <td>United States</td>\n",
       "      <td>North America</td>\n",
       "      <td>Madison</td>\n",
       "      <td>NaN</td>\n",
       "      <td>1/3/1970: Karl Armstrong, a member of the New ...</td>\n",
       "      <td>1</td>\n",
       "      <td>0</td>\n",
       "      <td>Facility/Infrastructure Attack</td>\n",
       "      <td>Government (General)</td>\n",
       "      <td>To protest the War in Vietnam and the draft</td>\n",
       "      <td>Incendiary</td>\n",
       "      <td>Poured gasoline on the floor and lit it with a...</td>\n",
       "      <td>New Year's Gang</td>\n",
       "      <td>Feb</td>\n",
       "      <td>1970-1979</td>\n",
       "    </tr>\n",
       "  </tbody>\n",
       "</table>\n",
       "</div>"
      ],
      "text/plain": [
       "   iyear  imonth         country_txt                   region_txt  \\\n",
       "0   1970       0  Dominican Republic  Central America & Caribbean   \n",
       "1   1970       0              Mexico                North America   \n",
       "2   1970       1         Philippines               Southeast Asia   \n",
       "3   1970       1              Greece               Western Europe   \n",
       "4   1970       1               Japan                    East Asia   \n",
       "5   1970       1       United States                North America   \n",
       "6   1970       1             Uruguay                South America   \n",
       "7   1970       1       United States                North America   \n",
       "8   1970       1       United States                North America   \n",
       "9   1970       1       United States                North America   \n",
       "\n",
       "            city         location  \\\n",
       "0  Santo Domingo              NaN   \n",
       "1    Mexico city              NaN   \n",
       "2        Unknown              NaN   \n",
       "3         Athens              NaN   \n",
       "4        Fukouka              NaN   \n",
       "5          Cairo              NaN   \n",
       "6     Montevideo              NaN   \n",
       "7        Oakland  Edes Substation   \n",
       "8        Madison              NaN   \n",
       "9        Madison              NaN   \n",
       "\n",
       "                                             summary  success  suicide  \\\n",
       "0                                                NaN        1        0   \n",
       "1                                                NaN        1        0   \n",
       "2                                                NaN        1        0   \n",
       "3                                                NaN        1        0   \n",
       "4                                                NaN        1        0   \n",
       "5  1/1/1970: Unknown African American assailants ...        1        0   \n",
       "6                                                NaN        0        0   \n",
       "7  1/2/1970: Unknown perpetrators detonated explo...        1        0   \n",
       "8  1/2/1970: Karl Armstrong, a member of the New ...        1        0   \n",
       "9  1/3/1970: Karl Armstrong, a member of the New ...        1        0   \n",
       "\n",
       "                  attacktype1_txt                targtype1_txt  \\\n",
       "0                   Assassination  Private Citizens & Property   \n",
       "1     Hostage Taking (Kidnapping)      Government (Diplomatic)   \n",
       "2                   Assassination          Journalists & Media   \n",
       "3               Bombing/Explosion      Government (Diplomatic)   \n",
       "4  Facility/Infrastructure Attack      Government (Diplomatic)   \n",
       "5                   Armed Assault                       Police   \n",
       "6                   Assassination                       Police   \n",
       "7               Bombing/Explosion                    Utilities   \n",
       "8  Facility/Infrastructure Attack                     Military   \n",
       "9  Facility/Infrastructure Attack         Government (General)   \n",
       "\n",
       "                                           motive              weaptype1_txt  \\\n",
       "0                                             NaN                    Unknown   \n",
       "1                                             NaN                    Unknown   \n",
       "2                                             NaN                    Unknown   \n",
       "3                                             NaN  Explosives/Bombs/Dynamite   \n",
       "4                                             NaN                 Incendiary   \n",
       "5  To protest the Cairo Illinois Police Deparment                   Firearms   \n",
       "6                                             NaN                   Firearms   \n",
       "7                                             NaN  Explosives/Bombs/Dynamite   \n",
       "8     To protest the War in Vietnam and the draft                 Incendiary   \n",
       "9     To protest the War in Vietnam and the draft                 Incendiary   \n",
       "\n",
       "                                          weapdetail  \\\n",
       "0                                                NaN   \n",
       "1                                                NaN   \n",
       "2                                                NaN   \n",
       "3                                          Explosive   \n",
       "4                                         Incendiary   \n",
       "5                       Several gunshots were fired.   \n",
       "6                                  Automatic firearm   \n",
       "7                                                NaN   \n",
       "8                    Firebomb consisting of gasoline   \n",
       "9  Poured gasoline on the floor and lit it with a...   \n",
       "\n",
       "                                gname month       year  \n",
       "0                              MANO-D   Jan  1970-1979  \n",
       "1  23rd of September Communist League   Jan  1970-1979  \n",
       "2                             Unknown   Feb  1970-1979  \n",
       "3                             Unknown   Feb  1970-1979  \n",
       "4                             Unknown   Feb  1970-1979  \n",
       "5                  Black Nationalists   Feb  1970-1979  \n",
       "6                 Tupamaros (Uruguay)   Feb  1970-1979  \n",
       "7                             Unknown   Feb  1970-1979  \n",
       "8                     New Year's Gang   Feb  1970-1979  \n",
       "9                     New Year's Gang   Feb  1970-1979  "
      ]
     },
     "execution_count": 1,
     "metadata": {},
     "output_type": "execute_result"
    }
   ],
   "source": [
    "import pandas as pd\n",
    "\n",
    "data = pd.read_csv('global-terrorism-vis/global-terror-data.csv', index_col=0)\n",
    "data.head(10)"
   ]
  },
  {
   "cell_type": "code",
   "execution_count": 2,
   "metadata": {
    "collapsed": false
   },
   "outputs": [
    {
     "data": {
      "text/plain": [
       "Index([u'iyear', u'imonth', u'country_txt', u'region_txt', u'city',\n",
       "       u'location', u'summary', u'success', u'suicide', u'attacktype1_txt',\n",
       "       u'targtype1_txt', u'motive', u'weaptype1_txt', u'weapdetail', u'gname',\n",
       "       u'month', u'year'],\n",
       "      dtype='object')"
      ]
     },
     "execution_count": 2,
     "metadata": {},
     "output_type": "execute_result"
    }
   ],
   "source": [
    "data.columns"
   ]
  },
  {
   "cell_type": "code",
   "execution_count": 11,
   "metadata": {
    "collapsed": false
   },
   "outputs": [
    {
     "data": {
      "text/plain": [
       "42.188656137575585"
      ]
     },
     "execution_count": 11,
     "metadata": {},
     "output_type": "execute_result"
    }
   ],
   "source": [
    "data[data['summary'].isnull()].shape[0] / float(data.shape[0]) * 100"
   ]
  },
  {
   "cell_type": "code",
   "execution_count": 8,
   "metadata": {
    "collapsed": false
   },
   "outputs": [
    {
     "data": {
      "text/plain": [
       "(156772, 17)"
      ]
     },
     "execution_count": 8,
     "metadata": {},
     "output_type": "execute_result"
    }
   ],
   "source": [
    "data.shape"
   ]
  }
 ],
 "metadata": {
  "kernelspec": {
   "display_name": "Python 2",
   "language": "python",
   "name": "python2"
  },
  "language_info": {
   "codemirror_mode": {
    "name": "ipython",
    "version": 2
   },
   "file_extension": ".py",
   "mimetype": "text/x-python",
   "name": "python",
   "nbconvert_exporter": "python",
   "pygments_lexer": "ipython2",
   "version": "2.7.12"
  }
 },
 "nbformat": 4,
 "nbformat_minor": 0
}
