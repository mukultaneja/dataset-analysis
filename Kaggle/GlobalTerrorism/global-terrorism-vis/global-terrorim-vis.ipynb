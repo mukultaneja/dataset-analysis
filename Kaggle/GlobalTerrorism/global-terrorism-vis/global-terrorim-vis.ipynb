{
 "cells": [
  {
   "cell_type": "code",
   "execution_count": 9,
   "metadata": {
    "collapsed": false
   },
   "outputs": [],
   "source": [
    "import pandas as pd\n",
    "\n",
    "def add_month_column(row):\n",
    "    '''\n",
    "    Function to convert integer month name to\n",
    "    equivalent month name\n",
    "    '''\n",
    "    month_names = ['Jan', 'Feb', 'Mar', 'Apr', 'May', 'Jun',\n",
    "                   'Jul', 'Aug', 'Sep', 'Oct', 'Nov', 'Dec']\n",
    "    return month_names[int(row['imonth']) % 12]\n",
    "\n",
    "data = pd.read_csv('global-terror-data.csv', index_col=0)\n",
    "data['month'] = data.apply(\n",
    "    lambda x: add_month_column(x), axis=1)    \n",
    "\n",
    "data.to_csv('global-terror-data.csv', index=True)"
   ]
  },
  {
   "cell_type": "code",
   "execution_count": 28,
   "metadata": {
    "collapsed": false
   },
   "outputs": [],
   "source": [
    "def add_year_col(x):\n",
    "    if x['iyear'] >= 1970 and x['iyear'] < 1980:\n",
    "        return '1970-1979'\n",
    "    elif x['iyear'] >= 1980 and x['iyear'] < 1990:\n",
    "        return '1980-1989'\n",
    "    elif x['iyear'] >= 1990 and x['iyear'] < 2000:\n",
    "        return '1990-1999'\n",
    "    elif x['iyear'] >= 2000 and x['iyear'] < 2010:\n",
    "        return '2000-2009'\n",
    "    elif x['iyear'] >= 2010 and x['iyear'] < 2016:\n",
    "        return '2010-2015'\n",
    "\n",
    "data = pd.read_csv('global-terror-data.csv', index_col=0)\n",
    "col_labels = ['1970-1979', '1980-1989', '1990-1999', '2000-2009', '2010-2015']\n",
    "data['year'] = data.apply(lambda x: add_year_col(x), axis=1)\n",
    "data.to_csv('global-terror-data.csv', index=True)"
   ]
  },
  {
   "cell_type": "code",
   "execution_count": 32,
   "metadata": {
    "collapsed": false
   },
   "outputs": [
    {
     "data": {
      "text/plain": [
       "0         Jan\n",
       "1         Jan\n",
       "2         Feb\n",
       "3         Feb\n",
       "4         Feb\n",
       "5         Feb\n",
       "6         Feb\n",
       "7         Feb\n",
       "8         Feb\n",
       "9         Feb\n",
       "10        Feb\n",
       "11        Feb\n",
       "12        Feb\n",
       "13        Feb\n",
       "14        Feb\n",
       "15        Feb\n",
       "16        Feb\n",
       "17        Feb\n",
       "18        Feb\n",
       "19        Feb\n",
       "20        Feb\n",
       "21        Feb\n",
       "22        Feb\n",
       "23        Feb\n",
       "24        Feb\n",
       "25        Feb\n",
       "26        Feb\n",
       "27        Feb\n",
       "28        Feb\n",
       "29        Feb\n",
       "         ... \n",
       "156742    Jan\n",
       "156743    Jan\n",
       "156744    Jan\n",
       "156745    Jan\n",
       "156746    Jan\n",
       "156747    Jan\n",
       "156748    Jan\n",
       "156749    Jan\n",
       "156750    Jan\n",
       "156751    Jan\n",
       "156752    Jan\n",
       "156753    Jan\n",
       "156754    Jan\n",
       "156755    Jan\n",
       "156756    Jan\n",
       "156757    Jan\n",
       "156758    Jan\n",
       "156759    Jan\n",
       "156760    Jan\n",
       "156761    Jan\n",
       "156762    Jan\n",
       "156763    Jan\n",
       "156764    Jan\n",
       "156765    Jan\n",
       "156766    Jan\n",
       "156767    Jan\n",
       "156768    Jan\n",
       "156769    Jan\n",
       "156770    Jan\n",
       "156771    Jan\n",
       "Name: month, dtype: object"
      ]
     },
     "execution_count": 32,
     "metadata": {},
     "output_type": "execute_result"
    }
   ],
   "source": [
    "data['month']"
   ]
  },
  {
   "cell_type": "code",
   "execution_count": null,
   "metadata": {
    "collapsed": true
   },
   "outputs": [],
   "source": []
  }
 ],
 "metadata": {
  "kernelspec": {
   "display_name": "Python 2",
   "language": "python",
   "name": "python2"
  },
  "language_info": {
   "codemirror_mode": {
    "name": "ipython",
    "version": 2
   },
   "file_extension": ".py",
   "mimetype": "text/x-python",
   "name": "python",
   "nbconvert_exporter": "python",
   "pygments_lexer": "ipython2",
   "version": "2.7.12"
  }
 },
 "nbformat": 4,
 "nbformat_minor": 0
}
