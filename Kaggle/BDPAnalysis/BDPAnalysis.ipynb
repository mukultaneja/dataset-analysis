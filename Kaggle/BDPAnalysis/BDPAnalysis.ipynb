{
 "cells": [
  {
   "cell_type": "code",
   "execution_count": 2,
   "metadata": {
    "collapsed": false
   },
   "outputs": [
    {
     "data": {
      "text/html": [
       "<div>\n",
       "<table border=\"1\" class=\"dataframe\">\n",
       "  <thead>\n",
       "    <tr style=\"text-align: right;\">\n",
       "      <th></th>\n",
       "      <th>Arrest</th>\n",
       "      <th>Age</th>\n",
       "      <th>Sex</th>\n",
       "      <th>Race</th>\n",
       "      <th>ArrestDate</th>\n",
       "      <th>ArrestTime</th>\n",
       "      <th>ArrestLocation</th>\n",
       "      <th>IncidentOffense</th>\n",
       "      <th>IncidentLocation</th>\n",
       "      <th>Charge</th>\n",
       "      <th>ChargeDescription</th>\n",
       "      <th>District</th>\n",
       "      <th>Post</th>\n",
       "      <th>Neighborhood</th>\n",
       "      <th>Location 1</th>\n",
       "    </tr>\n",
       "  </thead>\n",
       "  <tbody>\n",
       "    <tr>\n",
       "      <th>0</th>\n",
       "      <td>16160529.0</td>\n",
       "      <td>54.0</td>\n",
       "      <td>M</td>\n",
       "      <td>B</td>\n",
       "      <td>11/12/2016</td>\n",
       "      <td>22:35</td>\n",
       "      <td>3500 PELHAM AVE</td>\n",
       "      <td>4ECOMMON ASSAULT</td>\n",
       "      <td>3500 PELHAM AVE</td>\n",
       "      <td>1 1415</td>\n",
       "      <td>COMMON ASSAULT</td>\n",
       "      <td>Northeastern</td>\n",
       "      <td>432.0</td>\n",
       "      <td>Belair-Edison</td>\n",
       "      <td>(39.3208685519, -76.5652449141)</td>\n",
       "    </tr>\n",
       "    <tr>\n",
       "      <th>1</th>\n",
       "      <td>16160490.0</td>\n",
       "      <td>22.0</td>\n",
       "      <td>M</td>\n",
       "      <td>B</td>\n",
       "      <td>11/12/2016</td>\n",
       "      <td>21:49</td>\n",
       "      <td>300 S LOUDON AVE</td>\n",
       "      <td>Unknown Offense</td>\n",
       "      <td>300 S LOUDON AVE</td>\n",
       "      <td>4 3550</td>\n",
       "      <td>POSSESSION</td>\n",
       "      <td>Southwestern</td>\n",
       "      <td>833.0</td>\n",
       "      <td>Irvington</td>\n",
       "      <td>(39.2811486601, -76.6821278085)</td>\n",
       "    </tr>\n",
       "    <tr>\n",
       "      <th>2</th>\n",
       "      <td>16160487.0</td>\n",
       "      <td>31.0</td>\n",
       "      <td>M</td>\n",
       "      <td>B</td>\n",
       "      <td>11/12/2016</td>\n",
       "      <td>21:40</td>\n",
       "      <td>NaN</td>\n",
       "      <td>Unknown Offense</td>\n",
       "      <td>NaN</td>\n",
       "      <td>1 0077</td>\n",
       "      <td>FAILURE TO APPEAR</td>\n",
       "      <td>NaN</td>\n",
       "      <td>NaN</td>\n",
       "      <td>NaN</td>\n",
       "      <td>NaN</td>\n",
       "    </tr>\n",
       "    <tr>\n",
       "      <th>3</th>\n",
       "      <td>16160485.0</td>\n",
       "      <td>31.0</td>\n",
       "      <td>M</td>\n",
       "      <td>B</td>\n",
       "      <td>11/12/2016</td>\n",
       "      <td>20:30</td>\n",
       "      <td>NaN</td>\n",
       "      <td>Unknown Offense</td>\n",
       "      <td>NaN</td>\n",
       "      <td>1 0077</td>\n",
       "      <td>FAILURE TO APPEAR</td>\n",
       "      <td>NaN</td>\n",
       "      <td>NaN</td>\n",
       "      <td>NaN</td>\n",
       "      <td>NaN</td>\n",
       "    </tr>\n",
       "    <tr>\n",
       "      <th>4</th>\n",
       "      <td>16160481.0</td>\n",
       "      <td>33.0</td>\n",
       "      <td>M</td>\n",
       "      <td>B</td>\n",
       "      <td>11/12/2016</td>\n",
       "      <td>19:45</td>\n",
       "      <td>NaN</td>\n",
       "      <td>Unknown Offense</td>\n",
       "      <td>NaN</td>\n",
       "      <td>2 0480</td>\n",
       "      <td>MOTOR VEH/UNLAWFUL TAKING</td>\n",
       "      <td>NaN</td>\n",
       "      <td>NaN</td>\n",
       "      <td>NaN</td>\n",
       "      <td>NaN</td>\n",
       "    </tr>\n",
       "    <tr>\n",
       "      <th>5</th>\n",
       "      <td>16160461.0</td>\n",
       "      <td>39.0</td>\n",
       "      <td>F</td>\n",
       "      <td>W</td>\n",
       "      <td>11/12/2016</td>\n",
       "      <td>17:50</td>\n",
       "      <td>NaN</td>\n",
       "      <td>Unknown Offense</td>\n",
       "      <td>NaN</td>\n",
       "      <td>1 0077</td>\n",
       "      <td>FAILURE TO APPEAR</td>\n",
       "      <td>NaN</td>\n",
       "      <td>NaN</td>\n",
       "      <td>NaN</td>\n",
       "      <td>NaN</td>\n",
       "    </tr>\n",
       "    <tr>\n",
       "      <th>6</th>\n",
       "      <td>16160451.0</td>\n",
       "      <td>54.0</td>\n",
       "      <td>M</td>\n",
       "      <td>B</td>\n",
       "      <td>11/12/2016</td>\n",
       "      <td>16:30</td>\n",
       "      <td>NaN</td>\n",
       "      <td>Unknown Offense</td>\n",
       "      <td>NaN</td>\n",
       "      <td>1 0077</td>\n",
       "      <td>FAILURE TO APPEAR</td>\n",
       "      <td>NaN</td>\n",
       "      <td>NaN</td>\n",
       "      <td>NaN</td>\n",
       "      <td>NaN</td>\n",
       "    </tr>\n",
       "    <tr>\n",
       "      <th>7</th>\n",
       "      <td>16160447.0</td>\n",
       "      <td>39.0</td>\n",
       "      <td>M</td>\n",
       "      <td>W</td>\n",
       "      <td>11/12/2016</td>\n",
       "      <td>16:30</td>\n",
       "      <td>NaN</td>\n",
       "      <td>Unknown Offense</td>\n",
       "      <td>NaN</td>\n",
       "      <td>1 0077</td>\n",
       "      <td>FAILURE TO APPEAR</td>\n",
       "      <td>NaN</td>\n",
       "      <td>NaN</td>\n",
       "      <td>NaN</td>\n",
       "      <td>NaN</td>\n",
       "    </tr>\n",
       "    <tr>\n",
       "      <th>8</th>\n",
       "      <td>16160449.0</td>\n",
       "      <td>46.0</td>\n",
       "      <td>M</td>\n",
       "      <td>A</td>\n",
       "      <td>11/12/2016</td>\n",
       "      <td>15:37</td>\n",
       "      <td>1500 RUSSELL ST</td>\n",
       "      <td>Unknown Offense</td>\n",
       "      <td>1500 RUSSELL ST</td>\n",
       "      <td>2 2220</td>\n",
       "      <td>TRESPASSING</td>\n",
       "      <td>Southern</td>\n",
       "      <td>941.0</td>\n",
       "      <td>Carroll - Camden Industrial Area</td>\n",
       "      <td>(39.2743782847, -76.6276296924)</td>\n",
       "    </tr>\n",
       "    <tr>\n",
       "      <th>9</th>\n",
       "      <td>16160438.0</td>\n",
       "      <td>20.0</td>\n",
       "      <td>M</td>\n",
       "      <td>U</td>\n",
       "      <td>11/12/2016</td>\n",
       "      <td>15:30</td>\n",
       "      <td>500 N LAKEWOOD ST</td>\n",
       "      <td>4ECOMMON ASSAULT</td>\n",
       "      <td>500 N LAKEWOOD AVE</td>\n",
       "      <td>1 1415</td>\n",
       "      <td>COMMON ASSAULT</td>\n",
       "      <td>Southeastern</td>\n",
       "      <td>221.0</td>\n",
       "      <td>McElderry Park</td>\n",
       "      <td>(39.2970007586, -76.5793864662)</td>\n",
       "    </tr>\n",
       "  </tbody>\n",
       "</table>\n",
       "</div>"
      ],
      "text/plain": [
       "       Arrest   Age Sex Race  ArrestDate ArrestTime     ArrestLocation  \\\n",
       "0  16160529.0  54.0   M    B  11/12/2016      22:35    3500 PELHAM AVE   \n",
       "1  16160490.0  22.0   M    B  11/12/2016      21:49   300 S LOUDON AVE   \n",
       "2  16160487.0  31.0   M    B  11/12/2016      21:40                NaN   \n",
       "3  16160485.0  31.0   M    B  11/12/2016      20:30                NaN   \n",
       "4  16160481.0  33.0   M    B  11/12/2016      19:45                NaN   \n",
       "5  16160461.0  39.0   F    W  11/12/2016      17:50                NaN   \n",
       "6  16160451.0  54.0   M    B  11/12/2016      16:30                NaN   \n",
       "7  16160447.0  39.0   M    W  11/12/2016      16:30                NaN   \n",
       "8  16160449.0  46.0   M    A  11/12/2016      15:37    1500 RUSSELL ST   \n",
       "9  16160438.0  20.0   M    U  11/12/2016      15:30  500 N LAKEWOOD ST   \n",
       "\n",
       "    IncidentOffense    IncidentLocation  Charge          ChargeDescription  \\\n",
       "0  4ECOMMON ASSAULT     3500 PELHAM AVE  1 1415             COMMON ASSAULT   \n",
       "1   Unknown Offense    300 S LOUDON AVE  4 3550                 POSSESSION   \n",
       "2   Unknown Offense                 NaN  1 0077          FAILURE TO APPEAR   \n",
       "3   Unknown Offense                 NaN  1 0077          FAILURE TO APPEAR   \n",
       "4   Unknown Offense                 NaN  2 0480  MOTOR VEH/UNLAWFUL TAKING   \n",
       "5   Unknown Offense                 NaN  1 0077          FAILURE TO APPEAR   \n",
       "6   Unknown Offense                 NaN  1 0077          FAILURE TO APPEAR   \n",
       "7   Unknown Offense                 NaN  1 0077          FAILURE TO APPEAR   \n",
       "8   Unknown Offense     1500 RUSSELL ST  2 2220                TRESPASSING   \n",
       "9  4ECOMMON ASSAULT  500 N LAKEWOOD AVE  1 1415             COMMON ASSAULT   \n",
       "\n",
       "       District   Post                      Neighborhood  \\\n",
       "0  Northeastern  432.0                     Belair-Edison   \n",
       "1  Southwestern  833.0                         Irvington   \n",
       "2           NaN    NaN                               NaN   \n",
       "3           NaN    NaN                               NaN   \n",
       "4           NaN    NaN                               NaN   \n",
       "5           NaN    NaN                               NaN   \n",
       "6           NaN    NaN                               NaN   \n",
       "7           NaN    NaN                               NaN   \n",
       "8      Southern  941.0  Carroll - Camden Industrial Area   \n",
       "9  Southeastern  221.0                    McElderry Park   \n",
       "\n",
       "                        Location 1  \n",
       "0  (39.3208685519, -76.5652449141)  \n",
       "1  (39.2811486601, -76.6821278085)  \n",
       "2                              NaN  \n",
       "3                              NaN  \n",
       "4                              NaN  \n",
       "5                              NaN  \n",
       "6                              NaN  \n",
       "7                              NaN  \n",
       "8  (39.2743782847, -76.6276296924)  \n",
       "9  (39.2970007586, -76.5793864662)  "
      ]
     },
     "execution_count": 2,
     "metadata": {},
     "output_type": "execute_result"
    }
   ],
   "source": [
    "import pandas as pd\n",
    "\n",
    "data = pd.read_csv('BPD_Arrests.csv', sep=',', encoding='utf-8')\n",
    "data.head(10)"
   ]
  },
  {
   "cell_type": "code",
   "execution_count": 14,
   "metadata": {
    "collapsed": false
   },
   "outputs": [],
   "source": [
    "data = data.drop_duplicates()"
   ]
  },
  {
   "cell_type": "code",
   "execution_count": 15,
   "metadata": {
    "collapsed": false
   },
   "outputs": [
    {
     "name": "stdout",
     "output_type": "stream",
     "text": [
      "<class 'pandas.core.frame.DataFrame'>\n",
      "Int64Index: 130348 entries, 0 to 130712\n",
      "Data columns (total 15 columns):\n",
      "Arrest               123683 non-null float64\n",
      "Age                  130320 non-null float64\n",
      "Sex                  130348 non-null object\n",
      "Race                 130348 non-null object\n",
      "ArrestDate           130348 non-null object\n",
      "ArrestTime           130348 non-null object\n",
      "ArrestLocation       78577 non-null object\n",
      "IncidentOffense      130348 non-null object\n",
      "IncidentLocation     76973 non-null object\n",
      "Charge               114241 non-null object\n",
      "ChargeDescription    129846 non-null object\n",
      "District             78583 non-null object\n",
      "Post                 78565 non-null float64\n",
      "Neighborhood         78577 non-null object\n",
      "Location 1           78648 non-null object\n",
      "dtypes: float64(3), object(12)\n",
      "memory usage: 15.9+ MB\n"
     ]
    }
   ],
   "source": [
    "data.info()"
   ]
  },
  {
   "cell_type": "code",
   "execution_count": 16,
   "metadata": {
    "collapsed": false
   },
   "outputs": [],
   "source": [
    "# converting float age to integer \n",
    "data['Age'].fillna(0, inplace=True)\n",
    "data['Age'] = data['Age'].apply(lambda x: int(x))"
   ]
  },
  {
   "cell_type": "code",
   "execution_count": 25,
   "metadata": {
    "collapsed": false
   },
   "outputs": [
    {
     "data": {
      "text/plain": [
       "IncidentLocation\n",
       "200 N Eutaw St        473\n",
       "400 W Lexington St    240\n",
       "300 N Eutaw St        235\n",
       "400 E Baltimore St    221\n",
       "1500 Russell St       221\n",
       "1600 W North Av       200\n",
       "400 W Saratoga St     197\n",
       "600 Laurens St        175\n",
       "600 Cherry Hill Rd    151\n",
       "1200 W Pratt St       143\n",
       "dtype: int64"
      ]
     },
     "execution_count": 25,
     "metadata": {},
     "output_type": "execute_result"
    }
   ],
   "source": [
    "# locations where maximum incident happens\n",
    "data.groupby(['IncidentLocation']).size().sort_values(ascending=False).head(10)"
   ]
  },
  {
   "cell_type": "code",
   "execution_count": 23,
   "metadata": {
    "collapsed": false
   },
   "outputs": [
    {
     "data": {
      "text/plain": [
       "ArrestLocation\n",
       "200 N EUTAW ST          447\n",
       "1600 W NORTH AVE        344\n",
       "1500 RUSSELL ST         305\n",
       "400 E LEXINGTON ST      297\n",
       "300 N EUTAW ST          237\n",
       "400 E BALTIMORE ST      230\n",
       "400 W SARATOGA ST       219\n",
       "5100 REISTERSTOWN RD    211\n",
       "600 LAURENS ST          200\n",
       "1500 W NORTH AVE        199\n",
       "dtype: int64"
      ]
     },
     "execution_count": 23,
     "metadata": {},
     "output_type": "execute_result"
    }
   ],
   "source": [
    "# locations where maximum arrest happens\n",
    "data.groupby(['ArrestLocation']).size().sort_values(ascending=False).head(10)"
   ]
  },
  {
   "cell_type": "code",
   "execution_count": 30,
   "metadata": {
    "collapsed": false
   },
   "outputs": [
    {
     "data": {
      "text/html": [
       "<div>\n",
       "<table border=\"1\" class=\"dataframe\">\n",
       "  <thead>\n",
       "    <tr style=\"text-align: right;\">\n",
       "      <th></th>\n",
       "      <th>Age_seq</th>\n",
       "      <th>Sex</th>\n",
       "      <th>IncidentOffense</th>\n",
       "    </tr>\n",
       "  </thead>\n",
       "  <tbody>\n",
       "    <tr>\n",
       "      <th>71764</th>\n",
       "      <td>(95, 100]</td>\n",
       "      <td>M</td>\n",
       "      <td>Unknown Offense</td>\n",
       "    </tr>\n",
       "    <tr>\n",
       "      <th>95512</th>\n",
       "      <td>(95, 100]</td>\n",
       "      <td>M</td>\n",
       "      <td>Unknown Offense</td>\n",
       "    </tr>\n",
       "    <tr>\n",
       "      <th>117639</th>\n",
       "      <td>(85, 90]</td>\n",
       "      <td>M</td>\n",
       "      <td>111-Protective Order</td>\n",
       "    </tr>\n",
       "    <tr>\n",
       "      <th>102868</th>\n",
       "      <td>(85, 90]</td>\n",
       "      <td>F</td>\n",
       "      <td>87O-Narcotics (Outside)</td>\n",
       "    </tr>\n",
       "    <tr>\n",
       "      <th>91899</th>\n",
       "      <td>(85, 90]</td>\n",
       "      <td>M</td>\n",
       "      <td>4E-Common Assault</td>\n",
       "    </tr>\n",
       "  </tbody>\n",
       "</table>\n",
       "</div>"
      ],
      "text/plain": [
       "          Age_seq Sex          IncidentOffense\n",
       "71764   (95, 100]   M          Unknown Offense\n",
       "95512   (95, 100]   M          Unknown Offense\n",
       "117639   (85, 90]   M     111-Protective Order\n",
       "102868   (85, 90]   F  87O-Narcotics (Outside)\n",
       "91899    (85, 90]   M        4E-Common Assault"
      ]
     },
     "execution_count": 30,
     "metadata": {},
     "output_type": "execute_result"
    }
   ],
   "source": [
    "data['Age_seq'] = pd.cut(data['Age'], bins=20)\n",
    "df = data.sort_values('Age', ascending=False)\n",
    "# top 5 criminals age seq, their offence and sex\n",
    "df[['Age_seq', 'Sex', 'IncidentOffense']].head(5)"
   ]
  },
  {
   "cell_type": "code",
   "execution_count": 42,
   "metadata": {
    "collapsed": false
   },
   "outputs": [
    {
     "data": {
      "text/plain": [
       "Sex\n",
       "F     24876\n",
       "M    105837\n",
       "dtype: int64"
      ]
     },
     "execution_count": 42,
     "metadata": {},
     "output_type": "execute_result"
    }
   ],
   "source": [
    "# males/ females criminals\n",
    "data.groupby(['Sex']).size()"
   ]
  },
  {
   "cell_type": "code",
   "execution_count": 48,
   "metadata": {
    "collapsed": false
   },
   "outputs": [
    {
     "data": {
      "text/html": [
       "<div>\n",
       "<table border=\"1\" class=\"dataframe\">\n",
       "  <thead>\n",
       "    <tr style=\"text-align: right;\">\n",
       "      <th></th>\n",
       "      <th>Age</th>\n",
       "      <th>IncidentOffense</th>\n",
       "    </tr>\n",
       "  </thead>\n",
       "  <tbody>\n",
       "    <tr>\n",
       "      <th>71764</th>\n",
       "      <td>100</td>\n",
       "      <td>Unknown Offense</td>\n",
       "    </tr>\n",
       "  </tbody>\n",
       "</table>\n",
       "</div>"
      ],
      "text/plain": [
       "       Age  IncidentOffense\n",
       "71764  100  Unknown Offense"
      ]
     },
     "execution_count": 48,
     "metadata": {},
     "output_type": "execute_result"
    }
   ],
   "source": [
    "# max age of male, offence\n",
    "df = data[data['Sex'] == 'M']\n",
    "df.sort_values(by='Age', ascending=False).head(1)[['Age', 'IncidentOffense']]"
   ]
  },
  {
   "cell_type": "code",
   "execution_count": 49,
   "metadata": {
    "collapsed": false
   },
   "outputs": [
    {
     "data": {
      "text/html": [
       "<div>\n",
       "<table border=\"1\" class=\"dataframe\">\n",
       "  <thead>\n",
       "    <tr style=\"text-align: right;\">\n",
       "      <th></th>\n",
       "      <th>Age</th>\n",
       "      <th>IncidentOffense</th>\n",
       "    </tr>\n",
       "  </thead>\n",
       "  <tbody>\n",
       "    <tr>\n",
       "      <th>113591</th>\n",
       "      <td>0</td>\n",
       "      <td>79-Other</td>\n",
       "    </tr>\n",
       "  </tbody>\n",
       "</table>\n",
       "</div>"
      ],
      "text/plain": [
       "        Age IncidentOffense\n",
       "113591    0        79-Other"
      ]
     },
     "execution_count": 49,
     "metadata": {},
     "output_type": "execute_result"
    }
   ],
   "source": [
    "# min age of male, offence\n",
    "df.sort_values(by='Age', ascending=True).head(1)[['Age', 'IncidentOffense']]"
   ]
  },
  {
   "cell_type": "code",
   "execution_count": 50,
   "metadata": {
    "collapsed": false
   },
   "outputs": [
    {
     "data": {
      "text/html": [
       "<div>\n",
       "<table border=\"1\" class=\"dataframe\">\n",
       "  <thead>\n",
       "    <tr style=\"text-align: right;\">\n",
       "      <th></th>\n",
       "      <th>Age</th>\n",
       "      <th>IncidentOffense</th>\n",
       "    </tr>\n",
       "  </thead>\n",
       "  <tbody>\n",
       "    <tr>\n",
       "      <th>102868</th>\n",
       "      <td>87</td>\n",
       "      <td>87O-Narcotics (Outside)</td>\n",
       "    </tr>\n",
       "  </tbody>\n",
       "</table>\n",
       "</div>"
      ],
      "text/plain": [
       "        Age          IncidentOffense\n",
       "102868   87  87O-Narcotics (Outside)"
      ]
     },
     "execution_count": 50,
     "metadata": {},
     "output_type": "execute_result"
    }
   ],
   "source": [
    "# max age of female , min age\n",
    "df = data[data['Sex'] == 'F']\n",
    "df.sort_values(by='Age', ascending=False).head(1)[['Age', 'IncidentOffense']]"
   ]
  },
  {
   "cell_type": "code",
   "execution_count": 51,
   "metadata": {
    "collapsed": false
   },
   "outputs": [
    {
     "data": {
      "text/html": [
       "<div>\n",
       "<table border=\"1\" class=\"dataframe\">\n",
       "  <thead>\n",
       "    <tr style=\"text-align: right;\">\n",
       "      <th></th>\n",
       "      <th>Age</th>\n",
       "      <th>IncidentOffense</th>\n",
       "    </tr>\n",
       "  </thead>\n",
       "  <tbody>\n",
       "    <tr>\n",
       "      <th>115034</th>\n",
       "      <td>0</td>\n",
       "      <td>55A-Prostitution</td>\n",
       "    </tr>\n",
       "  </tbody>\n",
       "</table>\n",
       "</div>"
      ],
      "text/plain": [
       "        Age   IncidentOffense\n",
       "115034    0  55A-Prostitution"
      ]
     },
     "execution_count": 51,
     "metadata": {},
     "output_type": "execute_result"
    }
   ],
   "source": [
    "# min age of female, offence\n",
    "df.sort_values(by='Age', ascending=True).head(1)[['Age', 'IncidentOffense']]"
   ]
  },
  {
   "cell_type": "code",
   "execution_count": 56,
   "metadata": {
    "collapsed": false
   },
   "outputs": [
    {
     "data": {
      "text/plain": [
       "IncidentOffense\n",
       "Unknown Offense            66472\n",
       "87-Narcotics               10673\n",
       "4E-Common Assault           4900\n",
       "UNKNOWN OFFENSE             2613\n",
       "87O-Narcotics (Outside)     2271\n",
       "dtype: int64"
      ]
     },
     "execution_count": 56,
     "metadata": {},
     "output_type": "execute_result"
    }
   ],
   "source": [
    "# most popular offenses in males\n",
    "df = data[data['Sex'] == 'M']\n",
    "df.groupby(['IncidentOffense']).size().sort_values(ascending=False).head(5)"
   ]
  },
  {
   "cell_type": "code",
   "execution_count": 57,
   "metadata": {
    "collapsed": false
   },
   "outputs": [
    {
     "data": {
      "text/plain": [
       "IncidentOffense\n",
       "Unknown Offense            15574\n",
       "87-Narcotics                1621\n",
       "4E-Common Assault           1404\n",
       "55A-Prostitution             620\n",
       "6C-Larceny- Shoplifting      614\n",
       "dtype: int64"
      ]
     },
     "execution_count": 57,
     "metadata": {},
     "output_type": "execute_result"
    }
   ],
   "source": [
    "# most popular offenses in females\n",
    "df = data[data['Sex'] == 'F']\n",
    "df.groupby(['IncidentOffense']).size().sort_values(ascending=False).head(5)"
   ]
  },
  {
   "cell_type": "code",
   "execution_count": 65,
   "metadata": {
    "collapsed": false
   },
   "outputs": [
    {
     "data": {
      "text/plain": [
       "Race  IncidentOffense             \n",
       "A     118-Burglary - Fourth Degree        1\n",
       "      24-Towed Vehicle                    5\n",
       "      26-Recovered Vehicle                1\n",
       "      2F-Placing Hands                    1\n",
       "      2J-Other Sex Offn.                  1\n",
       "      3AJO-Robb Carjack-Other Wpn         1\n",
       "      3B-Robb Highway (Ua)                1\n",
       "      3D-Robb Comm. (Ua)                  1\n",
       "      49-Family Disturbance               1\n",
       "      4A-Agg. Asslt.- Gun                 2\n",
       "      4B-Agg. Asslt.- Cut                 2\n",
       "      4C-Agg. Asslt.- Oth.               10\n",
       "      4D-Agg. Asslt.- Hand                2\n",
       "      4E-Common Assault                  24\n",
       "      4ECOMMON ASSAULT                    1\n",
       "      4F-Assault By Threat                2\n",
       "      55-Disorderly Person                1\n",
       "      55A-Prostitution                    1\n",
       "      5A-Burg. Res. (Force)               2\n",
       "      61-Person Wanted On War             1\n",
       "      67-Child Abuse-Physical             1\n",
       "      6C-Larceny- Shoplifting             5\n",
       "      6E-Larceny- Auto Acc                1\n",
       "      6G-Larceny- From Bldg.              5\n",
       "      6JLARCENY- OTHER                    2\n",
       "      75-Destruct. Of Property            1\n",
       "      75DESTRUCT. OF PROPERTY             1\n",
       "      79-Other                            3\n",
       "      7A-Stolen Auto                      1\n",
       "      87-Narcotics                       21\n",
       "                                      ...  \n",
       "W     79-Other                          278\n",
       "      79OTHER                             5\n",
       "      7A-Stolen Auto                     57\n",
       "      7ASTOLEN AUTO                       4\n",
       "      7C-Stolen Veh./Other                1\n",
       "      80-Lost Property                    1\n",
       "      81-Recovered Property               2\n",
       "      83-Discharging Firearm              3\n",
       "      85-Mental Case                      7\n",
       "      85MENTAL CASE                       1\n",
       "      87-Narcotics                     1698\n",
       "      87NARCOTICS                         8\n",
       "      87O-Narcotics (Outside)           396\n",
       "      87ONARCOTICS (OUTSIDE)              1\n",
       "      87V-Narcotics (Onview)              2\n",
       "      88-Unfounded Call                  16\n",
       "      88UNFOUNDED CALL                    1\n",
       "      8AO-Arson Sin Res Str-Occ           1\n",
       "      8BO-Arson Oth Res Str-Occ           1\n",
       "      8EO-Arson Oth Comm Str-Occ          2\n",
       "      8J-Arson Other                      3\n",
       "      93-Abduction - Other                3\n",
       "      94-Abduction By Parent              1\n",
       "      95-Exparte                         10\n",
       "      96-Stop & Frisk                     2\n",
       "      96B-Investigative Stop              1\n",
       "      97-Search & Seizure               254\n",
       "      98-Child Neglect                    6\n",
       "      UNKNOWN OFFENSE                   518\n",
       "      Unknown Offense                 13175\n",
       "dtype: int64"
      ]
     },
     "execution_count": 65,
     "metadata": {},
     "output_type": "execute_result"
    }
   ],
   "source": [
    "# race wise incidentoffense\n",
    "data.groupby(['Race', 'IncidentOffense']).size()"
   ]
  },
  {
   "cell_type": "code",
   "execution_count": 86,
   "metadata": {
    "collapsed": false
   },
   "outputs": [
    {
     "data": {
      "text/plain": [
       "Race  Sex  IncidentOffense             \n",
       "A     F    24-Towed Vehicle                   1\n",
       "           3AJO-Robb Carjack-Other Wpn        1\n",
       "           4C-Agg. Asslt.- Oth.               2\n",
       "           4E-Common Assault                  2\n",
       "           4ECOMMON ASSAULT                   1\n",
       "           4F-Assault By Threat               1\n",
       "           55A-Prostitution                   1\n",
       "           67-Child Abuse-Physical            1\n",
       "           6C-Larceny- Shoplifting            1\n",
       "           6G-Larceny- From Bldg.             1\n",
       "           6JLARCENY- OTHER                   1\n",
       "           79-Other                           1\n",
       "           87-Narcotics                       2\n",
       "           UNKNOWN OFFENSE                    4\n",
       "           Unknown Offense                   61\n",
       "      M    118-Burglary - Fourth Degree       1\n",
       "           24-Towed Vehicle                   4\n",
       "           26-Recovered Vehicle               1\n",
       "           2F-Placing Hands                   1\n",
       "           2J-Other Sex Offn.                 1\n",
       "           3B-Robb Highway (Ua)               1\n",
       "           3D-Robb Comm. (Ua)                 1\n",
       "           49-Family Disturbance              1\n",
       "           4A-Agg. Asslt.- Gun                2\n",
       "           4B-Agg. Asslt.- Cut                2\n",
       "           4C-Agg. Asslt.- Oth.               8\n",
       "           4D-Agg. Asslt.- Hand               2\n",
       "           4E-Common Assault                 22\n",
       "           4F-Assault By Threat               1\n",
       "           55-Disorderly Person               1\n",
       "                                           ... \n",
       "W     M    75-Destruct. Of Property          73\n",
       "           75DESTRUCT. OF PROPERTY            4\n",
       "           76-Child Abuse-Sexual              5\n",
       "           76CHILD ABUSE-SEXUAL               1\n",
       "           79-Other                         213\n",
       "           79OTHER                            5\n",
       "           7A-Stolen Auto                    50\n",
       "           7ASTOLEN AUTO                      2\n",
       "           7C-Stolen Veh./Other               1\n",
       "           81-Recovered Property              1\n",
       "           83-Discharging Firearm             3\n",
       "           85-Mental Case                     4\n",
       "           85MENTAL CASE                      1\n",
       "           87-Narcotics                    1216\n",
       "           87NARCOTICS                        4\n",
       "           87O-Narcotics (Outside)          284\n",
       "           87ONARCOTICS (OUTSIDE)             1\n",
       "           87V-Narcotics (Onview)             2\n",
       "           88-Unfounded Call                 12\n",
       "           8AO-Arson Sin Res Str-Occ          1\n",
       "           8EO-Arson Oth Comm Str-Occ         2\n",
       "           8J-Arson Other                     3\n",
       "           94-Abduction By Parent             1\n",
       "           95-Exparte                         7\n",
       "           96-Stop & Frisk                    2\n",
       "           96B-Investigative Stop             1\n",
       "           97-Search & Seizure              132\n",
       "           98-Child Neglect                   3\n",
       "           UNKNOWN OFFENSE                  339\n",
       "           Unknown Offense                 8738\n",
       "dtype: int64"
      ]
     },
     "execution_count": 86,
     "metadata": {},
     "output_type": "execute_result"
    }
   ],
   "source": [
    "# race and sex wise incidentoffence\n",
    "data.groupby(['Race', 'Sex', 'IncidentOffense']).size()"
   ]
  },
  {
   "cell_type": "code",
   "execution_count": 87,
   "metadata": {
    "collapsed": false
   },
   "outputs": [
    {
     "data": {
      "text/plain": [
       "arrestyear\n",
       "2013    41929\n",
       "2014    38875\n",
       "2015    27173\n",
       "2016    22371\n",
       "dtype: int64"
      ]
     },
     "execution_count": 87,
     "metadata": {},
     "output_type": "execute_result"
    }
   ],
   "source": [
    "import datetime as dt\n",
    "# year wise arrest data\n",
    "data['arrestyear'] = data['ArrestDate'].apply(lambda x: dt.datetime.strptime(x, '%m/%d/%Y').year)\n",
    "data.groupby(['arrestyear']).size().sort_values(ascending=False)"
   ]
  },
  {
   "cell_type": "code",
   "execution_count": 99,
   "metadata": {
    "collapsed": false
   },
   "outputs": [
    {
     "data": {
      "text/plain": [
       "arrestyear  arrestmonthyear\n",
       "2013        01-2013            3740\n",
       "            02-2013            3419\n",
       "            03-2013            3668\n",
       "            04-2013            3512\n",
       "            05-2013            3578\n",
       "            06-2013            3433\n",
       "            07-2013            3511\n",
       "            08-2013            3868\n",
       "            09-2013            3614\n",
       "            10-2013            3634\n",
       "            11-2013            3003\n",
       "            12-2013            2949\n",
       "2014        01-2014            3366\n",
       "            02-2014            3055\n",
       "            03-2014            3537\n",
       "            04-2014            3645\n",
       "            05-2014            3744\n",
       "            06-2014            3498\n",
       "            07-2014            3741\n",
       "            08-2014            3418\n",
       "            09-2014            3381\n",
       "            10-2014            2906\n",
       "            11-2014            2489\n",
       "            12-2014            2095\n",
       "2015        01-2015            2551\n",
       "            02-2015            2403\n",
       "            03-2015            2582\n",
       "            04-2015            2548\n",
       "            05-2015            1468\n",
       "            06-2015            2007\n",
       "            07-2015            2399\n",
       "            08-2015            2368\n",
       "            09-2015            2204\n",
       "            10-2015            2334\n",
       "            11-2015            2237\n",
       "            12-2015            2072\n",
       "2016        01-2016            2229\n",
       "            02-2016            2147\n",
       "            03-2016            2494\n",
       "            04-2016            2255\n",
       "            05-2016            2147\n",
       "            06-2016            2206\n",
       "            07-2016            2121\n",
       "            08-2016            2100\n",
       "            09-2016            2077\n",
       "            10-2016            1841\n",
       "            11-2016             754\n",
       "dtype: int64"
      ]
     },
     "execution_count": 99,
     "metadata": {},
     "output_type": "execute_result"
    }
   ],
   "source": [
    "# month wise arrest data\n",
    "data['arrestmonthyear'] = data['ArrestDate'].apply(lambda x: dt.datetime.strptime(x, '%m/%d/%Y').strftime('%m-%Y'))\n",
    "data.groupby(['arrestyear', 'arrestmonthyear']).size()"
   ]
  },
  {
   "cell_type": "code",
   "execution_count": 65,
   "metadata": {
    "collapsed": false
   },
   "outputs": [
    {
     "data": {
      "text/plain": [
       "arrestyear  arrestmonthyear  Sex\n",
       "2013        01-2013          F       652\n",
       "                             M      3088\n",
       "            02-2013          F       624\n",
       "                             M      2795\n",
       "            03-2013          F       625\n",
       "                             M      3043\n",
       "            04-2013          F       653\n",
       "                             M      2859\n",
       "            05-2013          F       669\n",
       "                             M      2909\n",
       "            06-2013          F       680\n",
       "                             M      2753\n",
       "            07-2013          F       664\n",
       "                             M      2847\n",
       "            08-2013          F       769\n",
       "                             M      3099\n",
       "            09-2013          F       682\n",
       "                             M      2932\n",
       "            10-2013          F       696\n",
       "                             M      2938\n",
       "            11-2013          F       623\n",
       "                             M      2380\n",
       "            12-2013          F       555\n",
       "                             M      2394\n",
       "2014        01-2014          F       626\n",
       "                             M      2740\n",
       "            02-2014          F       541\n",
       "                             M      2514\n",
       "            03-2014          F       652\n",
       "                             M      2885\n",
       "                                    ... \n",
       "2015        09-2015          F       382\n",
       "                             M      1822\n",
       "            10-2015          F       445\n",
       "                             M      1889\n",
       "            11-2015          F       431\n",
       "                             M      1806\n",
       "            12-2015          F       382\n",
       "                             M      1690\n",
       "2016        01-2016          F       420\n",
       "                             M      1809\n",
       "            02-2016          F       417\n",
       "                             M      1730\n",
       "            03-2016          F       450\n",
       "                             M      2044\n",
       "            04-2016          F       451\n",
       "                             M      1804\n",
       "            05-2016          F       412\n",
       "                             M      1735\n",
       "            06-2016          F       456\n",
       "                             M      1750\n",
       "            07-2016          F       390\n",
       "                             M      1731\n",
       "            08-2016          F       405\n",
       "                             M      1695\n",
       "            09-2016          F       428\n",
       "                             M      1649\n",
       "            10-2016          F       360\n",
       "                             M      1481\n",
       "            11-2016          F       157\n",
       "                             M       597\n",
       "dtype: int64"
      ]
     },
     "execution_count": 65,
     "metadata": {},
     "output_type": "execute_result"
    }
   ],
   "source": [
    "# month year arrest data based on sex\n",
    "data.groupby(['arrestyear', 'arrestmonthyear', 'Sex']).size()"
   ]
  },
  {
   "cell_type": "code",
   "execution_count": null,
   "metadata": {
    "collapsed": true
   },
   "outputs": [],
   "source": []
  }
 ],
 "metadata": {
  "kernelspec": {
   "display_name": "Python 2",
   "language": "python",
   "name": "python2"
  },
  "language_info": {
   "codemirror_mode": {
    "name": "ipython",
    "version": 2
   },
   "file_extension": ".py",
   "mimetype": "text/x-python",
   "name": "python",
   "nbconvert_exporter": "python",
   "pygments_lexer": "ipython2",
   "version": "2.7.12"
  }
 },
 "nbformat": 4,
 "nbformat_minor": 0
}
