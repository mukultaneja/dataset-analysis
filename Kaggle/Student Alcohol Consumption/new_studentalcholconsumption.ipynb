{
 "cells": [
  {
   "cell_type": "code",
   "execution_count": 31,
   "metadata": {
    "collapsed": false
   },
   "outputs": [
    {
     "name": "stdout",
     "output_type": "stream",
     "text": [
      "<class 'pandas.core.frame.DataFrame'>\n",
      "RangeIndex: 395 entries, 0 to 394\n",
      "Data columns (total 33 columns):\n",
      "school        395 non-null object\n",
      "sex           395 non-null object\n",
      "age           395 non-null int64\n",
      "address       395 non-null object\n",
      "famsize       395 non-null object\n",
      "Pstatus       395 non-null object\n",
      "Medu          395 non-null int64\n",
      "Fedu          395 non-null int64\n",
      "Mjob          395 non-null object\n",
      "Fjob          395 non-null object\n",
      "reason        395 non-null object\n",
      "guardian      395 non-null object\n",
      "traveltime    395 non-null int64\n",
      "studytime     395 non-null int64\n",
      "failures      395 non-null int64\n",
      "schoolsup     395 non-null object\n",
      "famsup        395 non-null object\n",
      "paid          395 non-null object\n",
      "activities    395 non-null object\n",
      "nursery       395 non-null object\n",
      "higher        395 non-null object\n",
      "internet      395 non-null object\n",
      "romantic      395 non-null object\n",
      "famrel        395 non-null int64\n",
      "freetime      395 non-null int64\n",
      "goout         395 non-null int64\n",
      "Dalc          395 non-null int64\n",
      "Walc          395 non-null int64\n",
      "health        395 non-null int64\n",
      "absences      395 non-null int64\n",
      "G1            395 non-null int64\n",
      "G2            395 non-null int64\n",
      "G3            395 non-null int64\n",
      "dtypes: int64(16), object(17)\n",
      "memory usage: 101.9+ KB\n"
     ]
    }
   ],
   "source": [
    "import pandas as pd\n",
    "pd.options.mode.chained_assignment = None\n",
    "import matplotlib.pyplot as plt\n",
    "%matplotlib inline\n",
    "\n",
    "data = pd.read_csv('student-mat.csv')\n",
    "\n",
    "## general knowledge\n",
    "data.columns\n",
    "data.shape\n",
    "data.info()"
   ]
  },
  {
   "cell_type": "code",
   "execution_count": 61,
   "metadata": {
    "collapsed": false
   },
   "outputs": [],
   "source": [
    "def addLabel(x, when):\n",
    "    if when == 'daily':\n",
    "        if x['Dalc'] < 3:\n",
    "            return 'low'\n",
    "        if x['Dalc'] == 3:\n",
    "            return 'medium'\n",
    "        if x['Dalc'] > 3:\n",
    "            return 'High'\n",
    "    else:\n",
    "        if x['Walc'] < 3:\n",
    "            return 'low'\n",
    "        if x['Walc'] == 3:\n",
    "            return 'medium'\n",
    "        if x['Walc'] > 3:\n",
    "            return 'High'\n",
    "\n",
    "data['day_consumption'] = data.apply(lambda x: addLabel(x, 'daily'), axis=1)\n",
    "data['week_consumption'] = data.apply(lambda x: addLabel(x, 'weekly'), axis=1)"
   ]
  },
  {
   "cell_type": "code",
   "execution_count": 60,
   "metadata": {
    "collapsed": false
   },
   "outputs": [
    {
     "data": {
      "text/plain": [
       "<matplotlib.axes._subplots.AxesSubplot at 0x7f3cf9de0310>"
      ]
     },
     "execution_count": 60,
     "metadata": {},
     "output_type": "execute_result"
    },
    {
     "data": {
      "image/png": "[encoded data removed]",
      "text/plain": [
       "<matplotlib.figure.Figure at 0x7f3cf9decdd0>"
      ]
     },
     "metadata": {},
     "output_type": "display_data"
    }
   ],
   "source": [
    "# age vs alchol consumption\n",
    "\n",
    "df = data[['age', 'Dalc', 'Walc']]\n",
    "df.groupby(['age']).sum().plot(kind='bar')"
   ]
  },
  {
   "cell_type": "code",
   "execution_count": 62,
   "metadata": {
    "collapsed": false
   },
   "outputs": [
    {
     "data": {
      "text/plain": [
       "<matplotlib.axes._subplots.AxesSubplot at 0x7f3cf9de0f50>"
      ]
     },
     "execution_count": 62,
     "metadata": {},
     "output_type": "execute_result"
    },
    {
     "data": {
      "image/png": "[encoded data removed]",
      "text/plain": [
       "<matplotlib.figure.Figure at 0x7f3cf9dcec50>"
      ]
     },
     "metadata": {},
     "output_type": "display_data"
    }
   ],
   "source": [
    "## sex vs alchol consumption\n",
    "\n",
    "df = data[['sex', 'Dalc', 'Walc']]\n",
    "df.groupby('sex').sum().plot(kind='bar')"
   ]
  },
  {
   "cell_type": "code",
   "execution_count": 63,
   "metadata": {
    "collapsed": false
   },
   "outputs": [
    {
     "data": {
      "text/plain": [
       "<matplotlib.axes._subplots.AxesSubplot at 0x7f3cf9b7e090>"
      ]
     },
     "execution_count": 63,
     "metadata": {},
     "output_type": "execute_result"
    },
    {
     "data": {
      "image/png": "[encoded data removed]",
      "text/plain": [
       "<matplotlib.figure.Figure at 0x7f3cf9c4c810>"
      ]
     },
     "metadata": {},
     "output_type": "display_data"
    }
   ],
   "source": [
    "## sex vs alchol divide across age\n",
    "\n",
    "df = data[['sex', 'age', 'Dalc', 'Walc']]\n",
    "df = df.groupby(['age', 'sex']).sum().reset_index()\n",
    "males = df[df.sex == 'M']\n",
    "males = males[['age', 'Dalc', 'Walc']]\n",
    "males = males.set_index('age')\n",
    "females = df[df.sex == 'F']\n",
    "females = females[['age', 'Dalc', 'Walc']]\n",
    "females = females.set_index('age')\n",
    "\n",
    "fig, ax = plt.subplots(2)\n",
    "\n",
    "males.plot(kind='bar', ax=ax[0]) ## corresponding to male students\n",
    "females.plot(kind='bar', ax=ax[1]) ## corresponding to female students\n"
   ]
  },
  {
   "cell_type": "code",
   "execution_count": 140,
   "metadata": {
    "collapsed": false
   },
   "outputs": [
    {
     "data": {
      "text/plain": [
       "<matplotlib.axes._subplots.AxesSubplot at 0x7f3cf3d393d0>"
      ]
     },
     "execution_count": 140,
     "metadata": {},
     "output_type": "execute_result"
    },
    {
     "data": {
      "image/png": "[encoded data removed]",
      "text/plain": [
       "<matplotlib.figure.Figure at 0x7f3cf8ad1a50>"
      ]
     },
     "metadata": {},
     "output_type": "display_data"
    }
   ],
   "source": [
    "# consumption in differnt address\n",
    "\n",
    "fig, ax = plt.subplots(1, 2)\n",
    "\n",
    "df = data[['address', 'Dalc', 'Walc']]\n",
    "df = df[df['address'] == 'R']\n",
    "df.groupby(['address']).sum().plot(kind='bar', ax=ax[0], legend=False)\n",
    "\n",
    "df = data[['address', 'Dalc', 'Walc']]\n",
    "df = df[df['address'] == 'U']\n",
    "df.groupby(['address']).sum().plot(kind='bar', ax=ax[1], legend=False)"
   ]
  },
  {
   "cell_type": "code",
   "execution_count": 149,
   "metadata": {
    "collapsed": false
   },
   "outputs": [
    {
     "data": {
      "text/plain": [
       "<matplotlib.axes._subplots.AxesSubplot at 0x7f3cf361f510>"
      ]
     },
     "execution_count": 149,
     "metadata": {},
     "output_type": "execute_result"
    },
    {
     "data": {
      "image/png": "[encoded data removed]",
      "text/plain": [
       "<matplotlib.figure.Figure at 0x7f3cf3c72950>"
      ]
     },
     "metadata": {},
     "output_type": "display_data"
    }
   ],
   "source": [
    "# ratio of consumption in differnt address\n",
    "\n",
    "ratios = pd.DataFrame()\n",
    "fig, ax = plt.subplots(1, 2)\n",
    "\n",
    "# % consumption in week day for rural\n",
    "df = data[['address', 'Dalc']]\n",
    "df = df[df['address'] == 'R']\n",
    "rows = df.shape[0]\n",
    "df = df.groupby(['address']).sum()\n",
    "df['total'] = rows\n",
    "df['ratio'] = df['Dalc'] / df['total'] * 100\n",
    "\n",
    "ratios['rural'] = df['ratio'].values\n",
    "\n",
    "# % consumption in week day for urban\n",
    "df = data[['address', 'Dalc',]]\n",
    "df = df[df['address'] == 'U']\n",
    "rows = df.shape[0]\n",
    "df = df.groupby(['address']).sum()\n",
    "df['total'] = rows\n",
    "df['ratio'] = df['Dalc'] / df['total'] * 100\n",
    "\n",
    "ratios['urban'] = df['ratio'].values\n",
    "ratios.plot(kind='bar', ax=ax[0], legend=False, title='Weekday vs address')\n",
    "\n",
    "# % consumption in weekend for rural\n",
    "df = data[['address', 'Walc']]\n",
    "df = df[df['address'] == 'R']\n",
    "rows = df.shape[0]\n",
    "df = df.groupby(['address']).sum()\n",
    "df['total'] = rows\n",
    "df['ratio'] = df['Walc'] / df['total'] * 100\n",
    "\n",
    "ratios['rural'] = df['ratio'].values\n",
    "\n",
    "# % consumption in weekend for urban\n",
    "df = data[['address', 'Walc',]]\n",
    "df = df[df['address'] == 'U']\n",
    "rows = df.shape[0]\n",
    "df = df.groupby(['address']).sum()\n",
    "df['total'] = rows\n",
    "df['ratio'] = df['Walc'] / df['total'] * 100\n",
    "\n",
    "ratios['urban'] = df['ratio'].values\n",
    "ratios.plot(kind='bar', ax=ax[1], title='Weekend vs address')"
   ]
  },
  {
   "cell_type": "code",
   "execution_count": 76,
   "metadata": {
    "collapsed": false
   },
   "outputs": [
    {
     "data": {
      "text/plain": [
       "<matplotlib.axes._subplots.AxesSubplot at 0x7f3cf990a350>"
      ]
     },
     "execution_count": 76,
     "metadata": {},
     "output_type": "execute_result"
    },
    {
     "data": {
      "image/png": "[encoded data removed]",
      "text/plain": [
       "<matplotlib.figure.Figure at 0x7f3cf9a72490>"
      ]
     },
     "metadata": {},
     "output_type": "display_data"
    }
   ],
   "source": [
    "# address vs consumption divide across ages\n",
    "\n",
    "fig, ax = plt.subplots(1, 2)\n",
    "df = data[['address', 'age', 'Dalc', 'Walc']]\n",
    "df = df[df['address'] == 'R']\n",
    "df.groupby(['address', 'age']).sum().plot(kind='bar', ax=ax[0])\n",
    "\n",
    "df = data[['address', 'age', 'Dalc', 'Walc']]\n",
    "df = df[df['address'] == 'U']\n",
    "df.groupby(['address', 'age']).sum().plot(kind='bar', ax=ax[1])\n"
   ]
  },
  {
   "cell_type": "code",
   "execution_count": 79,
   "metadata": {
    "collapsed": false
   },
   "outputs": [
    {
     "data": {
      "text/plain": [
       "<matplotlib.axes._subplots.AxesSubplot at 0x7f3cf985b2d0>"
      ]
     },
     "execution_count": 79,
     "metadata": {},
     "output_type": "execute_result"
    },
    {
     "data": {
      "image/png": "[encoded data removed]",
      "text/plain": [
       "<matplotlib.figure.Figure at 0x7f3cf97d9a10>"
      ]
     },
     "metadata": {},
     "output_type": "display_data"
    }
   ],
   "source": [
    "# address vs grades\n",
    "\n",
    "df = data[['G1', 'G2', 'G3', 'address']]\n",
    "df.groupby(['address']).sum().plot(kind='bar', stacked=True)"
   ]
  },
  {
   "cell_type": "code",
   "execution_count": 98,
   "metadata": {
    "collapsed": false
   },
   "outputs": [
    {
     "data": {
      "text/plain": [
       "<matplotlib.axes._subplots.AxesSubplot at 0x7f3cf9877e10>"
      ]
     },
     "execution_count": 98,
     "metadata": {},
     "output_type": "execute_result"
    },
    {
     "data": {
      "image/png": "[encoded data removed]",
      "text/plain": [
       "<matplotlib.figure.Figure at 0x7f3cf9613b90>"
      ]
     },
     "metadata": {},
     "output_type": "display_data"
    }
   ],
   "source": [
    "# failure ratio vs address\n",
    "\n",
    "df = data[['address', 'failures']]\n",
    "df = df.groupby(['address']).sum()\n",
    "df['address'] = data.groupby(['address']).size()\n",
    "df['failure_ratio'] = df['failures'] / df['address'] * 100\n",
    "\n",
    "df['failure_ratio'].plot(kind='bar')"
   ]
  },
  {
   "cell_type": "code",
   "execution_count": 132,
   "metadata": {
    "collapsed": false
   },
   "outputs": [
    {
     "data": {
      "text/plain": [
       "<matplotlib.axes._subplots.AxesSubplot at 0x7f3cf90f1350>"
      ]
     },
     "execution_count": 132,
     "metadata": {},
     "output_type": "execute_result"
    },
    {
     "data": {
      "image/png": "[encoded data removed]",
      "text/plain": [
       "<matplotlib.figure.Figure at 0x7f3cf90e38d0>"
      ]
     },
     "metadata": {},
     "output_type": "display_data"
    }
   ],
   "source": [
    "# study time vs address\n",
    "\n",
    "df = data[['studytime', 'address']]\n",
    "df.groupby(['address']).sum().plot(kind='bar')"
   ]
  },
  {
   "cell_type": "code",
   "execution_count": 159,
   "metadata": {
    "collapsed": false
   },
   "outputs": [
    {
     "data": {
      "text/html": [
       "<div>\n",
       "<table border=\"1\" class=\"dataframe\">\n",
       "  <thead>\n",
       "    <tr style=\"text-align: right;\">\n",
       "      <th></th>\n",
       "      <th>absences</th>\n",
       "    </tr>\n",
       "    <tr>\n",
       "      <th>address</th>\n",
       "      <th></th>\n",
       "    </tr>\n",
       "  </thead>\n",
       "  <tbody>\n",
       "    <tr>\n",
       "      <th>R</th>\n",
       "      <td>539</td>\n",
       "    </tr>\n",
       "    <tr>\n",
       "      <th>U</th>\n",
       "      <td>1716</td>\n",
       "    </tr>\n",
       "  </tbody>\n",
       "</table>\n",
       "</div>"
      ],
      "text/plain": [
       "         absences\n",
       "address          \n",
       "R             539\n",
       "U            1716"
      ]
     },
     "execution_count": 159,
     "metadata": {},
     "output_type": "execute_result"
    }
   ],
   "source": [
    "# absences vs address\n",
    "\n",
    "df = data[['absences', 'address']]\n",
    "df.groupby(['address']).sum()"
   ]
  },
  {
   "cell_type": "code",
   "execution_count": 134,
   "metadata": {
    "collapsed": false
   },
   "outputs": [
    {
     "data": {
      "text/plain": [
       "<matplotlib.axes._subplots.AxesSubplot at 0x7f3cf3f20b50>"
      ]
     },
     "execution_count": 134,
     "metadata": {},
     "output_type": "execute_result"
    },
    {
     "data": {
      "image/png": "[encoded data removed]",
      "text/plain": [
       "<matplotlib.figure.Figure at 0x7f3cf3f3ff90>"
      ]
     },
     "metadata": {},
     "output_type": "display_data"
    }
   ],
   "source": [
    "# free time vs address\n",
    "\n",
    "df = data[['freetime', 'address']]\n",
    "df.groupby(['address']).sum().plot(kind='bar')"
   ]
  },
  {
   "cell_type": "code",
   "execution_count": 158,
   "metadata": {
    "collapsed": false
   },
   "outputs": [
    {
     "data": {
      "text/plain": [
       "<matplotlib.axes._subplots.AxesSubplot at 0x7f3cf383f490>"
      ]
     },
     "execution_count": 158,
     "metadata": {},
     "output_type": "execute_result"
    },
    {
     "data": {
      "image/png": "[encoded data removed]",
      "text/plain": [
       "<matplotlib.figure.Figure at 0x7f3cf38a5ad0>"
      ]
     },
     "metadata": {},
     "output_type": "display_data"
    }
   ],
   "source": [
    "# traveltime vs address\n",
    "\n",
    "df = data[['traveltime', 'address']]\n",
    "df.groupby(['address']).sum().plot(kind='bar')"
   ]
  },
  {
   "cell_type": "code",
   "execution_count": 135,
   "metadata": {
    "collapsed": false
   },
   "outputs": [
    {
     "data": {
      "text/plain": [
       "<matplotlib.axes._subplots.AxesSubplot at 0x7f3cf8461a10>"
      ]
     },
     "execution_count": 135,
     "metadata": {},
     "output_type": "execute_result"
    },
    {
     "data": {
      "image/png": "[encoded data removed]",
      "text/plain": [
       "<matplotlib.figure.Figure at 0x7f3cf3e9d210>"
      ]
     },
     "metadata": {},
     "output_type": "display_data"
    }
   ],
   "source": [
    "# goout vs address\n",
    "\n",
    "df = data[['goout', 'address']]\n",
    "df.groupby(['address']).sum().plot(kind='bar')"
   ]
  },
  {
   "cell_type": "code",
   "execution_count": 154,
   "metadata": {
    "collapsed": false
   },
   "outputs": [
    {
     "data": {
      "text/plain": [
       "<matplotlib.axes._subplots.AxesSubplot at 0x7f3cf3c04450>"
      ]
     },
     "execution_count": 154,
     "metadata": {},
     "output_type": "execute_result"
    },
    {
     "data": {
      "image/png": "[encoded data removed]",
      "text/plain": [
       "<matplotlib.figure.Figure at 0x7f3cf383f850>"
      ]
     },
     "metadata": {},
     "output_type": "display_data"
    }
   ],
   "source": [
    "# activities vs address\n",
    "\n",
    "fig, ax = plt.subplots(1, 2)\n",
    "\n",
    "df = data[['activities', 'address']]\n",
    "df['count'] = 1\n",
    "df = df[df['address'] == 'R']\n",
    "df.groupby(['address', 'activities']).sum().plot(kind='bar', ax=ax[0])\n",
    "\n",
    "df = data[['activities', 'address']]\n",
    "df['count'] = 1\n",
    "df = df[df['address'] == 'U']\n",
    "df.groupby(['address', 'activities']).sum().plot(kind='bar', ax=ax[1])"
   ]
  },
  {
   "cell_type": "code",
   "execution_count": null,
   "metadata": {
    "collapsed": true
   },
   "outputs": [],
   "source": []
  }
 ],
 "metadata": {
  "kernelspec": {
   "display_name": "Python 2",
   "language": "python",
   "name": "python2"
  },
  "language_info": {
   "codemirror_mode": {
    "name": "ipython",
    "version": 2
   },
   "file_extension": ".py",
   "mimetype": "text/x-python",
   "name": "python",
   "nbconvert_exporter": "python",
   "pygments_lexer": "ipython2",
   "version": "2.7.12"
  }
 },
 "nbformat": 4,
 "nbformat_minor": 1
}
